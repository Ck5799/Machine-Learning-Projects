{
  "nbformat": 4,
  "nbformat_minor": 0,
  "metadata": {
    "colab": {
      "provenance": []
    },
    "kernelspec": {
      "name": "python3",
      "display_name": "Python 3"
    },
    "language_info": {
      "name": "python"
    }
  },
  "cells": [
    {
      "cell_type": "markdown",
      "source": [
        "# **Connecting to the google drive**"
      ],
      "metadata": {
        "id": "WeOV9LRa4Crp"
      }
    },
    {
      "cell_type": "code",
      "execution_count": 3,
      "metadata": {
        "colab": {
          "base_uri": "https://localhost:8080/"
        },
        "id": "CwT42s75Y4r3",
        "outputId": "61814d53-00b4-4140-e564-318d75070764"
      },
      "outputs": [
        {
          "output_type": "stream",
          "name": "stdout",
          "text": [
            "Mounted at /content/drive\n"
          ]
        }
      ],
      "source": [
        "# File is stored in the drive so we link the drive to access the file \n",
        "from google.colab import drive\n",
        "drive.mount('/content/drive')"
      ]
    },
    {
      "cell_type": "markdown",
      "source": [
        "# **Importing the libraries**"
      ],
      "metadata": {
        "id": "krk8Icdq4JNu"
      }
    },
    {
      "cell_type": "code",
      "source": [
        "# We import the required modules for machine learning, like numpy, pandas and matplotlib \n",
        "import numpy as np\n",
        "import pandas as pd\n",
        "import matplotlib.pyplot as plt"
      ],
      "metadata": {
        "id": "ROchN0aLZKyS"
      },
      "execution_count": 4,
      "outputs": []
    },
    {
      "cell_type": "markdown",
      "source": [
        "# **Importing the dataset**"
      ],
      "metadata": {
        "id": "aveLBv_A4JXL"
      }
    },
    {
      "cell_type": "code",
      "source": [
        "# we import the data using pandas module and import the 3rd and 4th column into x and y respectively\n",
        "data = pd.read_csv('/content/drive/MyDrive/polynomial_linear_regression/Position_Salaries_poly.csv')\n",
        "x=data.iloc[:,1:-1].values\n",
        "y=data.iloc[:,-1].values\n",
        "print(data)\n",
        "print(\"----------------------------------------------------------------------\")\n",
        "print(x)\n",
        "print(\"----------------------------------------------------------------------\")\n",
        "print(y)"
      ],
      "metadata": {
        "colab": {
          "base_uri": "https://localhost:8080/"
        },
        "id": "wkGC878pZYEn",
        "outputId": "9a153aeb-4d05-4076-817c-097c1df29686"
      },
      "execution_count": 13,
      "outputs": [
        {
          "output_type": "stream",
          "name": "stdout",
          "text": [
            "            Position  Level   Salary\n",
            "0   Business Analyst      1    45000\n",
            "1  Junior Consultant      2    50000\n",
            "2  Senior Consultant      3    60000\n",
            "3            Manager      4    80000\n",
            "4    Country Manager      5   110000\n",
            "5     Region Manager      6   150000\n",
            "6            Partner      7   200000\n",
            "7     Senior Partner      8   300000\n",
            "8            C-level      9   500000\n",
            "9                CEO     10  1000000\n",
            "----------------------------------------------------------------------\n",
            "[[ 1]\n",
            " [ 2]\n",
            " [ 3]\n",
            " [ 4]\n",
            " [ 5]\n",
            " [ 6]\n",
            " [ 7]\n",
            " [ 8]\n",
            " [ 9]\n",
            " [10]]\n",
            "----------------------------------------------------------------------\n",
            "[  45000   50000   60000   80000  110000  150000  200000  300000  500000\n",
            " 1000000]\n"
          ]
        }
      ]
    },
    {
      "cell_type": "markdown",
      "source": [
        "# **Training the Linear Regression model on the whole data set**"
      ],
      "metadata": {
        "id": "wYLXgMWI401V"
      }
    },
    {
      "cell_type": "code",
      "source": [
        "# we use the train set to train the linear regression model on the whole data \n",
        "# we do this directly because the data imported does not have any categorical data\n",
        "from sklearn.linear_model import LinearRegression\n",
        "regressor= LinearRegression()\n",
        "regressor.fit(x,y)"
      ],
      "metadata": {
        "colab": {
          "base_uri": "https://localhost:8080/"
        },
        "id": "6r2nd1tL_Bzb",
        "outputId": "123c8863-9ebb-448d-cdcf-7f172bccd03c"
      },
      "execution_count": 6,
      "outputs": [
        {
          "output_type": "execute_result",
          "data": {
            "text/plain": [
              "LinearRegression()"
            ]
          },
          "metadata": {},
          "execution_count": 6
        }
      ]
    },
    {
      "cell_type": "markdown",
      "source": [
        "# **Training the Polynomial Regression model on the whole data set**"
      ],
      "metadata": {
        "id": "jJ9Zf2-TUUOs"
      }
    },
    {
      "cell_type": "code",
      "source": [
        "# we use the train set to train the polynomial regression model but be fore that we need to do a bit of preprocessing \n",
        "# we need to the values with a power in a matrix\n",
        "from sklearn.preprocessing import PolynomialFeatures\n",
        "polyreg=PolynomialFeatures(degree=4)\n",
        "X1=polyreg.fit_transform(x)\n",
        "model = LinearRegression()\n",
        "model.fit(X1, y)"
      ],
      "metadata": {
        "colab": {
          "base_uri": "https://localhost:8080/"
        },
        "id": "naZSw1ujDbc3",
        "outputId": "addbb756-06ec-45ff-c5fc-937579aa6ff1"
      },
      "execution_count": 14,
      "outputs": [
        {
          "output_type": "execute_result",
          "data": {
            "text/plain": [
              "LinearRegression()"
            ]
          },
          "metadata": {},
          "execution_count": 14
        }
      ]
    },
    {
      "cell_type": "markdown",
      "source": [
        "# **Visualising the Linear Regression Results**"
      ],
      "metadata": {
        "id": "5BMT-kCG5gmh"
      }
    },
    {
      "cell_type": "code",
      "source": [
        "# Plotting the linear regression results\n",
        "plt.scatter(x, y, color= 'red')\n",
        "plt.plot(x, regressor.predict(x), color= 'blue')\n",
        "plt.title('Position Vs Salary (Linear regression)')\n",
        "plt.xlabel('Position level')\n",
        "plt.ylabel('Salary')\n",
        "plt.show()"
      ],
      "metadata": {
        "colab": {
          "base_uri": "https://localhost:8080/",
          "height": 295
        },
        "id": "qFvA_ur4X8q6",
        "outputId": "f2f3bb60-618c-4749-c8db-0e1325408740"
      },
      "execution_count": 29,
      "outputs": [
        {
          "output_type": "display_data",
          "data": {
            "text/plain": [
              "<Figure size 432x288 with 1 Axes>"
            ],
            "image/png": "[encoded data removed]"
          },
          "metadata": {
            "needs_background": "light"
          }
        }
      ]
    },
    {
      "cell_type": "markdown",
      "source": [
        "# **Visualising the Polynomial Regression Results**\n",
        "\n"
      ],
      "metadata": {
        "id": "6VZBB7B2ZC9l"
      }
    },
    {
      "cell_type": "code",
      "source": [
        "# Plotting the polynomial regression results\n",
        "plt.scatter(x, y, color= 'red')\n",
        "plt.plot(x, model.predict(polyreg.fit_transform(x)), color= 'blue')\n",
        "plt.title('Position Vs Salary (polynomial regression)')\n",
        "plt.xlabel('Position level')\n",
        "plt.ylabel('Salary')\n",
        "plt.show()"
      ],
      "metadata": {
        "colab": {
          "base_uri": "https://localhost:8080/",
          "height": 295
        },
        "outputId": "a6090e8f-d9f9-49f0-8a45-bdf9e9b6994a",
        "id": "TfPhYirtY_7x"
      },
      "execution_count": 27,
      "outputs": [
        {
          "output_type": "display_data",
          "data": {
            "text/plain": [
              "<Figure size 432x288 with 1 Axes>"
            ],
            "image/png": "[encoded data removed]"
          },
          "metadata": {
            "needs_background": "light"
          }
        }
      ]
    },
    {
      "cell_type": "markdown",
      "source": [
        "# **Visualising the Polynomial Regression Results (With Higher Resolution and smooth curve)**\n",
        "\n"
      ],
      "metadata": {
        "id": "-L5Mn2BcboTq"
      }
    },
    {
      "cell_type": "code",
      "source": [
        "# Plotting the polynomial regression but smoothing the curve \n",
        "X_grid = np.arange(min(x), max(x), 0.01) #  0.01 to make the graph smoother\n",
        "X_grid = X_grid.reshape((len(X_grid), 1)) # reshapes the array to be a matrix\n",
        "plt.scatter(x, y, color = 'red') # plots the training set\n",
        "plt.plot(X_grid, model.predict(polyreg.fit_transform((X_grid))), color = 'blue') # plots a polynomial regression line\n",
        "plt.title('Position Vs Salary (Polynomial Regression)') # adds tittle to the plot\n",
        "plt.xlabel('Position level') # adds label to the x-axis\n",
        "plt.ylabel('Salary') # adds label to the y-axis\n",
        "plt.show() # prints our plot"
      ],
      "metadata": {
        "colab": {
          "base_uri": "https://localhost:8080/",
          "height": 295
        },
        "outputId": "29bce4ea-e3bf-4805-9515-b0ee6a6df5b3",
        "id": "-ilcKUOzbqe_"
      },
      "execution_count": 31,
      "outputs": [
        {
          "output_type": "display_data",
          "data": {
            "text/plain": [
              "<Figure size 432x288 with 1 Axes>"
            ],
            "image/png": "[encoded data removed]"
          },
          "metadata": {
            "needs_background": "light"
          }
        }
      ]
    },
    {
      "cell_type": "markdown",
      "source": [
        "# **Predicting a new result with Linear Regression**"
      ],
      "metadata": {
        "id": "hrimVdHXoE9V"
      }
    },
    {
      "cell_type": "code",
      "source": [
        "# Predicting the salary of the level 11 using linear regression\n",
        "regressor.predict([[11]])"
      ],
      "metadata": {
        "colab": {
          "base_uri": "https://localhost:8080/"
        },
        "id": "CunQW4M7oOLF",
        "outputId": "37314f9c-5c7f-4dff-973f-08350f6f3da4"
      },
      "execution_count": 36,
      "outputs": [
        {
          "output_type": "execute_result",
          "data": {
            "text/plain": [
              "array([709872.79843444])"
            ]
          },
          "metadata": {},
          "execution_count": 36
        }
      ]
    },
    {
      "cell_type": "markdown",
      "source": [
        "# **Predicting a new result with Polynomial Regression**"
      ],
      "metadata": {
        "id": "XLysBKAVobzB"
      }
    },
    {
      "cell_type": "code",
      "source": [
        "# Predicting the salary of the level 11 using polynomial regression\n",
        "model.predict(polyreg.fit_transform([[11]]))"
      ],
      "metadata": {
        "colab": {
          "base_uri": "https://localhost:8080/"
        },
        "id": "t2kHbyHPobAH",
        "outputId": "52ee6dc0-aac9-4e44-c33b-5bab82c7132b"
      },
      "execution_count": 37,
      "outputs": [
        {
          "output_type": "execute_result",
          "data": {
            "text/plain": [
              "array([1780833.33333359])"
            ]
          },
          "metadata": {},
          "execution_count": 37
        }
      ]
    }
  ]
}